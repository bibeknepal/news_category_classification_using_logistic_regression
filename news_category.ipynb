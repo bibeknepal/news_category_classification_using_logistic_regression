{
  "cells": [
    {
      "cell_type": "markdown",
      "metadata": {
        "id": "_SQwK4YgW4C4"
      },
      "source": [
        "# **Import necessary libraries**"
      ]
    },
    {
      "cell_type": "code",
      "execution_count": 59,
      "metadata": {
        "id": "Kg_rs6oglHH_"
      },
      "outputs": [],
      "source": [
        "import pandas as pd\n",
        "from nltk.stem import WordNetLemmatizer\n",
        "from nltk import word_tokenize\n",
        "from nltk.corpus import stopwords\n",
        "import matplotlib.pyplot as plt\n",
        "\n",
        "import re\n",
        "import string\n",
        "\n",
        "# from textblob import TextBlob\n",
        "# from wordcloud import WordCloud\n",
        "from sklearn.model_selection import train_test_split\n",
        "from sklearn.feature_extraction.text import CountVectorizer\n",
        "from sklearn.preprocessing import StandardScaler\n",
        "from sklearn.linear_model import LogisticRegression\n",
        "from sklearn.metrics import accuracy_score, classification_report\n",
        "from sklearn.multiclass import OneVsRestClassifier\n",
        "from sklearn.utils import resample"
      ]
    },
    {
      "cell_type": "markdown",
      "metadata": {
        "id": "gFU3MHpEXjtT"
      },
      "source": [
        "# **Load Data**"
      ]
    },
    {
      "cell_type": "code",
      "execution_count": 60,
      "metadata": {
        "id": "1jtmnEK4nHhz"
      },
      "outputs": [],
      "source": [
        "df = pd.read_json(f\"data//News_Category_Dataset_v3.json\",lines = True)\n",
        "df = df[['headline','short_description','category']]"
      ]
    },
    {
      "cell_type": "code",
      "execution_count": 61,
      "metadata": {
        "colab": {
          "base_uri": "https://localhost:8080/",
          "height": 424
        },
        "id": "fcFNypB7n0ea",
        "outputId": "5b58e52d-3378-4e3e-b314-c3604a836548"
      },
      "outputs": [
        {
          "data": {
            "text/html": [
              "<div>\n",
              "<style scoped>\n",
              "    .dataframe tbody tr th:only-of-type {\n",
              "        vertical-align: middle;\n",
              "    }\n",
              "\n",
              "    .dataframe tbody tr th {\n",
              "        vertical-align: top;\n",
              "    }\n",
              "\n",
              "    .dataframe thead th {\n",
              "        text-align: right;\n",
              "    }\n",
              "</style>\n",
              "<table border=\"1\" class=\"dataframe\">\n",
              "  <thead>\n",
              "    <tr style=\"text-align: right;\">\n",
              "      <th></th>\n",
              "      <th>headline</th>\n",
              "      <th>short_description</th>\n",
              "      <th>category</th>\n",
              "    </tr>\n",
              "  </thead>\n",
              "  <tbody>\n",
              "    <tr>\n",
              "      <th>0</th>\n",
              "      <td>Over 4 Million Americans Roll Up Sleeves For O...</td>\n",
              "      <td>Health experts said it is too early to predict...</td>\n",
              "      <td>U.S. NEWS</td>\n",
              "    </tr>\n",
              "    <tr>\n",
              "      <th>1</th>\n",
              "      <td>American Airlines Flyer Charged, Banned For Li...</td>\n",
              "      <td>He was subdued by passengers and crew when he ...</td>\n",
              "      <td>U.S. NEWS</td>\n",
              "    </tr>\n",
              "    <tr>\n",
              "      <th>2</th>\n",
              "      <td>23 Of The Funniest Tweets About Cats And Dogs ...</td>\n",
              "      <td>\"Until you have a dog you don't understand wha...</td>\n",
              "      <td>COMEDY</td>\n",
              "    </tr>\n",
              "    <tr>\n",
              "      <th>3</th>\n",
              "      <td>The Funniest Tweets From Parents This Week (Se...</td>\n",
              "      <td>\"Accidentally put grown-up toothpaste on my to...</td>\n",
              "      <td>PARENTING</td>\n",
              "    </tr>\n",
              "    <tr>\n",
              "      <th>4</th>\n",
              "      <td>Woman Who Called Cops On Black Bird-Watcher Lo...</td>\n",
              "      <td>Amy Cooper accused investment firm Franklin Te...</td>\n",
              "      <td>U.S. NEWS</td>\n",
              "    </tr>\n",
              "    <tr>\n",
              "      <th>...</th>\n",
              "      <td>...</td>\n",
              "      <td>...</td>\n",
              "      <td>...</td>\n",
              "    </tr>\n",
              "    <tr>\n",
              "      <th>209522</th>\n",
              "      <td>RIM CEO Thorsten Heins' 'Significant' Plans Fo...</td>\n",
              "      <td>Verizon Wireless and AT&amp;T are already promotin...</td>\n",
              "      <td>TECH</td>\n",
              "    </tr>\n",
              "    <tr>\n",
              "      <th>209523</th>\n",
              "      <td>Maria Sharapova Stunned By Victoria Azarenka I...</td>\n",
              "      <td>Afterward, Azarenka, more effusive with the pr...</td>\n",
              "      <td>SPORTS</td>\n",
              "    </tr>\n",
              "    <tr>\n",
              "      <th>209524</th>\n",
              "      <td>Giants Over Patriots, Jets Over Colts Among  M...</td>\n",
              "      <td>Leading up to Super Bowl XLVI, the most talked...</td>\n",
              "      <td>SPORTS</td>\n",
              "    </tr>\n",
              "    <tr>\n",
              "      <th>209525</th>\n",
              "      <td>Aldon Smith Arrested: 49ers Linebacker Busted ...</td>\n",
              "      <td>CORRECTION: An earlier version of this story i...</td>\n",
              "      <td>SPORTS</td>\n",
              "    </tr>\n",
              "    <tr>\n",
              "      <th>209526</th>\n",
              "      <td>Dwight Howard Rips Teammates After Magic Loss ...</td>\n",
              "      <td>The five-time all-star center tore into his te...</td>\n",
              "      <td>SPORTS</td>\n",
              "    </tr>\n",
              "  </tbody>\n",
              "</table>\n",
              "<p>209527 rows × 3 columns</p>\n",
              "</div>"
            ],
            "text/plain": [
              "                                                 headline  \\\n",
              "0       Over 4 Million Americans Roll Up Sleeves For O...   \n",
              "1       American Airlines Flyer Charged, Banned For Li...   \n",
              "2       23 Of The Funniest Tweets About Cats And Dogs ...   \n",
              "3       The Funniest Tweets From Parents This Week (Se...   \n",
              "4       Woman Who Called Cops On Black Bird-Watcher Lo...   \n",
              "...                                                   ...   \n",
              "209522  RIM CEO Thorsten Heins' 'Significant' Plans Fo...   \n",
              "209523  Maria Sharapova Stunned By Victoria Azarenka I...   \n",
              "209524  Giants Over Patriots, Jets Over Colts Among  M...   \n",
              "209525  Aldon Smith Arrested: 49ers Linebacker Busted ...   \n",
              "209526  Dwight Howard Rips Teammates After Magic Loss ...   \n",
              "\n",
              "                                        short_description   category  \n",
              "0       Health experts said it is too early to predict...  U.S. NEWS  \n",
              "1       He was subdued by passengers and crew when he ...  U.S. NEWS  \n",
              "2       \"Until you have a dog you don't understand wha...     COMEDY  \n",
              "3       \"Accidentally put grown-up toothpaste on my to...  PARENTING  \n",
              "4       Amy Cooper accused investment firm Franklin Te...  U.S. NEWS  \n",
              "...                                                   ...        ...  \n",
              "209522  Verizon Wireless and AT&T are already promotin...       TECH  \n",
              "209523  Afterward, Azarenka, more effusive with the pr...     SPORTS  \n",
              "209524  Leading up to Super Bowl XLVI, the most talked...     SPORTS  \n",
              "209525  CORRECTION: An earlier version of this story i...     SPORTS  \n",
              "209526  The five-time all-star center tore into his te...     SPORTS  \n",
              "\n",
              "[209527 rows x 3 columns]"
            ]
          },
          "execution_count": 61,
          "metadata": {},
          "output_type": "execute_result"
        }
      ],
      "source": [
        "df"
      ]
    },
    {
      "cell_type": "markdown",
      "metadata": {
        "id": "KOxw6tjtX40b"
      },
      "source": [
        "List the unique categories in the dataset"
      ]
    },
    {
      "cell_type": "code",
      "execution_count": 62,
      "metadata": {
        "colab": {
          "base_uri": "https://localhost:8080/"
        },
        "id": "mox7uVx5wCCC",
        "outputId": "b505b4f0-3200-4efe-a9f0-6054ab8c0fd1"
      },
      "outputs": [
        {
          "name": "stdout",
          "output_type": "stream",
          "text": [
            "['U.S. NEWS' 'COMEDY' 'PARENTING' 'WORLD NEWS' 'CULTURE & ARTS' 'TECH'\n",
            " 'SPORTS' 'ENTERTAINMENT' 'POLITICS' 'WEIRD NEWS' 'ENVIRONMENT'\n",
            " 'EDUCATION' 'CRIME' 'SCIENCE' 'WELLNESS' 'BUSINESS' 'STYLE & BEAUTY'\n",
            " 'FOOD & DRINK' 'MEDIA' 'QUEER VOICES' 'HOME & LIVING' 'WOMEN'\n",
            " 'BLACK VOICES' 'TRAVEL' 'MONEY' 'RELIGION' 'LATINO VOICES' 'IMPACT'\n",
            " 'WEDDINGS' 'COLLEGE' 'PARENTS' 'ARTS & CULTURE' 'STYLE' 'GREEN' 'TASTE'\n",
            " 'HEALTHY LIVING' 'THE WORLDPOST' 'GOOD NEWS' 'WORLDPOST' 'FIFTY' 'ARTS'\n",
            " 'DIVORCE']\n",
            "Total Unique Categories: 42\n"
          ]
        }
      ],
      "source": [
        "print(df['category'].unique())\n",
        "print(f\"Total Unique Categories: {len(df['category'].unique())}\")"
      ]
    },
    {
      "cell_type": "markdown",
      "metadata": {
        "id": "_yll6--hX-tJ"
      },
      "source": [
        "Check if there is any null values in the datasets"
      ]
    },
    {
      "cell_type": "code",
      "execution_count": 63,
      "metadata": {
        "colab": {
          "base_uri": "https://localhost:8080/"
        },
        "id": "IbZ2AYG2wLTp",
        "outputId": "2e51d1aa-d002-4643-d524-00a55a71ec97"
      },
      "outputs": [
        {
          "data": {
            "text/plain": [
              "headline             False\n",
              "short_description    False\n",
              "category             False\n",
              "dtype: bool"
            ]
          },
          "execution_count": 63,
          "metadata": {},
          "output_type": "execute_result"
        }
      ],
      "source": [
        "df.isnull().any()"
      ]
    },
    {
      "cell_type": "markdown",
      "metadata": {
        "id": "p1gWCSK8ZEf_"
      },
      "source": [
        "Print the columns of the dataframe"
      ]
    },
    {
      "cell_type": "code",
      "execution_count": 64,
      "metadata": {
        "colab": {
          "base_uri": "https://localhost:8080/"
        },
        "id": "fLpbRMDL4B1C",
        "outputId": "50606c06-d92b-4e93-e266-8f1468ef0a2c"
      },
      "outputs": [
        {
          "name": "stdout",
          "output_type": "stream",
          "text": [
            "Index(['headline', 'short_description', 'category'], dtype='object')\n"
          ]
        }
      ],
      "source": [
        "print(df.columns)"
      ]
    },
    {
      "cell_type": "markdown",
      "metadata": {
        "id": "A7L09MXqZJmn"
      },
      "source": [
        "count values based on the category"
      ]
    },
    {
      "cell_type": "code",
      "execution_count": 65,
      "metadata": {
        "colab": {
          "base_uri": "https://localhost:8080/"
        },
        "id": "DsIjZcW_wRCw",
        "outputId": "10201fd5-e566-4562-c07f-09f676beccf4"
      },
      "outputs": [
        {
          "data": {
            "text/plain": [
              "category\n",
              "POLITICS          35602\n",
              "WELLNESS          17945\n",
              "ENTERTAINMENT     17362\n",
              "TRAVEL             9900\n",
              "STYLE & BEAUTY     9814\n",
              "PARENTING          8791\n",
              "HEALTHY LIVING     6694\n",
              "QUEER VOICES       6347\n",
              "FOOD & DRINK       6340\n",
              "BUSINESS           5992\n",
              "COMEDY             5400\n",
              "SPORTS             5077\n",
              "BLACK VOICES       4583\n",
              "HOME & LIVING      4320\n",
              "PARENTS            3955\n",
              "THE WORLDPOST      3664\n",
              "WEDDINGS           3653\n",
              "WOMEN              3572\n",
              "CRIME              3562\n",
              "IMPACT             3484\n",
              "DIVORCE            3426\n",
              "WORLD NEWS         3299\n",
              "MEDIA              2944\n",
              "WEIRD NEWS         2777\n",
              "GREEN              2622\n",
              "WORLDPOST          2579\n",
              "RELIGION           2577\n",
              "STYLE              2254\n",
              "SCIENCE            2206\n",
              "TECH               2104\n",
              "TASTE              2096\n",
              "MONEY              1756\n",
              "ARTS               1509\n",
              "ENVIRONMENT        1444\n",
              "FIFTY              1401\n",
              "GOOD NEWS          1398\n",
              "U.S. NEWS          1377\n",
              "ARTS & CULTURE     1339\n",
              "COLLEGE            1144\n",
              "LATINO VOICES      1130\n",
              "CULTURE & ARTS     1074\n",
              "EDUCATION          1014\n",
              "Name: count, dtype: int64"
            ]
          },
          "execution_count": 65,
          "metadata": {},
          "output_type": "execute_result"
        }
      ],
      "source": [
        "df['category'].value_counts()"
      ]
    },
    {
      "cell_type": "markdown",
      "metadata": {
        "id": "RhCJty7lZ_oB"
      },
      "source": [
        "# **Data Preprocessing**"
      ]
    },
    {
      "cell_type": "markdown",
      "metadata": {
        "id": "Px4L-qjlZSe-"
      },
      "source": [
        "**Select only required categories that will be used**"
      ]
    },
    {
      "cell_type": "code",
      "execution_count": 66,
      "metadata": {
        "id": "Z39Wwvg-QnB2"
      },
      "outputs": [],
      "source": [
        "def category_selection(df):\n",
        "  category_mapping = {\n",
        "      'Politics':['Politics'],\n",
        "      'Wellness':['Wellness'],\n",
        "      'Entertainment':['Comedy','Entertainment'],\n",
        "      'Finance':['Business','Money'],\n",
        "      'Sports':['Sports'],\n",
        "      'Travel':['Travel'],\n",
        "      'Style & Beauty':['Style & beauty','Style']\n",
        "  }\n",
        "  category_mapping = {value.upper():key for key,values in category_mapping.items() for value in values}\n",
        "  df['category'] = df['category'].map(category_mapping).fillna('Others')\n",
        "  df = df[df['category'] != 'Others']\n",
        "  df = df.reset_index()\n",
        "  return df"
      ]
    },
    {
      "cell_type": "code",
      "execution_count": 67,
      "metadata": {
        "colab": {
          "base_uri": "https://localhost:8080/",
          "height": 424
        },
        "id": "BBMOIx8N_pEx",
        "outputId": "0d4a690c-2fb6-4802-ffc3-36ff408c78c2"
      },
      "outputs": [
        {
          "data": {
            "text/html": [
              "<div>\n",
              "<style scoped>\n",
              "    .dataframe tbody tr th:only-of-type {\n",
              "        vertical-align: middle;\n",
              "    }\n",
              "\n",
              "    .dataframe tbody tr th {\n",
              "        vertical-align: top;\n",
              "    }\n",
              "\n",
              "    .dataframe thead th {\n",
              "        text-align: right;\n",
              "    }\n",
              "</style>\n",
              "<table border=\"1\" class=\"dataframe\">\n",
              "  <thead>\n",
              "    <tr style=\"text-align: right;\">\n",
              "      <th></th>\n",
              "      <th>index</th>\n",
              "      <th>headline</th>\n",
              "      <th>short_description</th>\n",
              "      <th>category</th>\n",
              "    </tr>\n",
              "  </thead>\n",
              "  <tbody>\n",
              "    <tr>\n",
              "      <th>0</th>\n",
              "      <td>2</td>\n",
              "      <td>23 Of The Funniest Tweets About Cats And Dogs ...</td>\n",
              "      <td>\"Until you have a dog you don't understand wha...</td>\n",
              "      <td>Entertainment</td>\n",
              "    </tr>\n",
              "    <tr>\n",
              "      <th>1</th>\n",
              "      <td>17</td>\n",
              "      <td>Maury Wills, Base-Stealing Shortstop For Dodge...</td>\n",
              "      <td>Maury Wills, who helped the Los Angeles Dodger...</td>\n",
              "      <td>Sports</td>\n",
              "    </tr>\n",
              "    <tr>\n",
              "      <th>2</th>\n",
              "      <td>20</td>\n",
              "      <td>Golden Globes Returning To NBC In January Afte...</td>\n",
              "      <td>For the past 18 months, Hollywood has effectiv...</td>\n",
              "      <td>Entertainment</td>\n",
              "    </tr>\n",
              "    <tr>\n",
              "      <th>3</th>\n",
              "      <td>21</td>\n",
              "      <td>Biden Says U.S. Forces Would Defend Taiwan If ...</td>\n",
              "      <td>President issues vow as tensions with China rise.</td>\n",
              "      <td>Politics</td>\n",
              "    </tr>\n",
              "    <tr>\n",
              "      <th>4</th>\n",
              "      <td>24</td>\n",
              "      <td>‘Beautiful And Sad At The Same Time’: Ukrainia...</td>\n",
              "      <td>An annual celebration took on a different feel...</td>\n",
              "      <td>Politics</td>\n",
              "    </tr>\n",
              "    <tr>\n",
              "      <th>...</th>\n",
              "      <td>...</td>\n",
              "      <td>...</td>\n",
              "      <td>...</td>\n",
              "      <td>...</td>\n",
              "    </tr>\n",
              "    <tr>\n",
              "      <th>111097</th>\n",
              "      <td>209513</td>\n",
              "      <td>'Girl With the Dragon Tattoo' India Release Ca...</td>\n",
              "      <td>\"Sony Pictures will not be releasing The Girl ...</td>\n",
              "      <td>Entertainment</td>\n",
              "    </tr>\n",
              "    <tr>\n",
              "      <th>111098</th>\n",
              "      <td>209523</td>\n",
              "      <td>Maria Sharapova Stunned By Victoria Azarenka I...</td>\n",
              "      <td>Afterward, Azarenka, more effusive with the pr...</td>\n",
              "      <td>Sports</td>\n",
              "    </tr>\n",
              "    <tr>\n",
              "      <th>111099</th>\n",
              "      <td>209524</td>\n",
              "      <td>Giants Over Patriots, Jets Over Colts Among  M...</td>\n",
              "      <td>Leading up to Super Bowl XLVI, the most talked...</td>\n",
              "      <td>Sports</td>\n",
              "    </tr>\n",
              "    <tr>\n",
              "      <th>111100</th>\n",
              "      <td>209525</td>\n",
              "      <td>Aldon Smith Arrested: 49ers Linebacker Busted ...</td>\n",
              "      <td>CORRECTION: An earlier version of this story i...</td>\n",
              "      <td>Sports</td>\n",
              "    </tr>\n",
              "    <tr>\n",
              "      <th>111101</th>\n",
              "      <td>209526</td>\n",
              "      <td>Dwight Howard Rips Teammates After Magic Loss ...</td>\n",
              "      <td>The five-time all-star center tore into his te...</td>\n",
              "      <td>Sports</td>\n",
              "    </tr>\n",
              "  </tbody>\n",
              "</table>\n",
              "<p>111102 rows × 4 columns</p>\n",
              "</div>"
            ],
            "text/plain": [
              "         index                                           headline  \\\n",
              "0            2  23 Of The Funniest Tweets About Cats And Dogs ...   \n",
              "1           17  Maury Wills, Base-Stealing Shortstop For Dodge...   \n",
              "2           20  Golden Globes Returning To NBC In January Afte...   \n",
              "3           21  Biden Says U.S. Forces Would Defend Taiwan If ...   \n",
              "4           24  ‘Beautiful And Sad At The Same Time’: Ukrainia...   \n",
              "...        ...                                                ...   \n",
              "111097  209513  'Girl With the Dragon Tattoo' India Release Ca...   \n",
              "111098  209523  Maria Sharapova Stunned By Victoria Azarenka I...   \n",
              "111099  209524  Giants Over Patriots, Jets Over Colts Among  M...   \n",
              "111100  209525  Aldon Smith Arrested: 49ers Linebacker Busted ...   \n",
              "111101  209526  Dwight Howard Rips Teammates After Magic Loss ...   \n",
              "\n",
              "                                        short_description       category  \n",
              "0       \"Until you have a dog you don't understand wha...  Entertainment  \n",
              "1       Maury Wills, who helped the Los Angeles Dodger...         Sports  \n",
              "2       For the past 18 months, Hollywood has effectiv...  Entertainment  \n",
              "3       President issues vow as tensions with China rise.       Politics  \n",
              "4       An annual celebration took on a different feel...       Politics  \n",
              "...                                                   ...            ...  \n",
              "111097  \"Sony Pictures will not be releasing The Girl ...  Entertainment  \n",
              "111098  Afterward, Azarenka, more effusive with the pr...         Sports  \n",
              "111099  Leading up to Super Bowl XLVI, the most talked...         Sports  \n",
              "111100  CORRECTION: An earlier version of this story i...         Sports  \n",
              "111101  The five-time all-star center tore into his te...         Sports  \n",
              "\n",
              "[111102 rows x 4 columns]"
            ]
          },
          "execution_count": 67,
          "metadata": {},
          "output_type": "execute_result"
        }
      ],
      "source": [
        "df = category_selection(df)\n",
        "df"
      ]
    },
    {
      "cell_type": "markdown",
      "metadata": {
        "id": "qvkRHz1lZhli"
      },
      "source": [
        "print unique categories from filtered datasets"
      ]
    },
    {
      "cell_type": "code",
      "execution_count": 68,
      "metadata": {
        "colab": {
          "base_uri": "https://localhost:8080/"
        },
        "id": "J0Pd5O_LltW2",
        "outputId": "37ba7955-ad08-4327-cd17-7058cdc6b206"
      },
      "outputs": [
        {
          "data": {
            "text/plain": [
              "array(['Entertainment', 'Sports', 'Politics', 'Wellness', 'Finance',\n",
              "       'Style & Beauty', 'Travel'], dtype=object)"
            ]
          },
          "execution_count": 68,
          "metadata": {},
          "output_type": "execute_result"
        }
      ],
      "source": [
        "df['category'].unique()"
      ]
    },
    {
      "cell_type": "markdown",
      "metadata": {
        "id": "hfSyM6MeZsxa"
      },
      "source": [
        "count the values based on the categories"
      ]
    },
    {
      "cell_type": "code",
      "execution_count": 69,
      "metadata": {
        "colab": {
          "base_uri": "https://localhost:8080/"
        },
        "id": "EAdrLAJ0zhX5",
        "outputId": "28165a39-91b5-4a66-ab2d-9a1a2dee2b5b"
      },
      "outputs": [
        {
          "data": {
            "text/plain": [
              "category\n",
              "Politics          35602\n",
              "Entertainment     22762\n",
              "Wellness          17945\n",
              "Style & Beauty    12068\n",
              "Travel             9900\n",
              "Finance            7748\n",
              "Sports             5077\n",
              "Name: count, dtype: int64"
            ]
          },
          "execution_count": 69,
          "metadata": {},
          "output_type": "execute_result"
        }
      ],
      "source": [
        "df['category'].value_counts()"
      ]
    },
    {
      "cell_type": "code",
      "execution_count": 70,
      "metadata": {
        "colab": {
          "base_uri": "https://localhost:8080/",
          "height": 398
        },
        "id": "dlpfGHaB6DUH",
        "outputId": "28847dbf-a8d7-438a-8c51-7bb3dec2cf42"
      },
      "outputs": [
        {
          "data": {
            "text/plain": [
              "<Axes: xlabel='category'>"
            ]
          },
          "execution_count": 70,
          "metadata": {},
          "output_type": "execute_result"
        },
        {
          "data": {
            "image/png": "[encoded data removed]",
            "text/plain": [
              "<Figure size 600x300 with 1 Axes>"
            ]
          },
          "metadata": {},
          "output_type": "display_data"
        }
      ],
      "source": [
        "df['category'].value_counts().plot( kind='bar', figsize=(6,3))"
      ]
    },
    {
      "cell_type": "code",
      "execution_count": 71,
      "metadata": {
        "id": "a6RFhhXl4f1G"
      },
      "outputs": [],
      "source": [
        "categories = df['category'].unique()\n",
        "balanced_df = []\n",
        "target_samples = len(df[df['category'] == 'Wellness'])"
      ]
    },
    {
      "cell_type": "code",
      "execution_count": 72,
      "metadata": {
        "id": "o1qz_JzS4Ne5"
      },
      "outputs": [],
      "source": [
        "#resample the dataset to balance the dataset.\n",
        "for category in categories:\n",
        "    if category == 'Wellness':\n",
        "        balanced_df.append(df[df['category'] == 'Wellness'])\n",
        "    else:\n",
        "        category_data = df[df['category'] == category]\n",
        "        category_resampled = resample(category_data,\n",
        "                                      replace=True,\n",
        "                                      n_samples=target_samples,\n",
        "                                      random_state=42)\n",
        "        balanced_df.append(category_resampled)\n",
        "df =pd.concat(balanced_df)"
      ]
    },
    {
      "cell_type": "code",
      "execution_count": 73,
      "metadata": {
        "colab": {
          "base_uri": "https://localhost:8080/",
          "height": 424
        },
        "id": "noq7rXO35tel",
        "outputId": "da1b6717-1207-40cd-d99a-f20adbbc2423"
      },
      "outputs": [
        {
          "data": {
            "text/html": [
              "<div>\n",
              "<style scoped>\n",
              "    .dataframe tbody tr th:only-of-type {\n",
              "        vertical-align: middle;\n",
              "    }\n",
              "\n",
              "    .dataframe tbody tr th {\n",
              "        vertical-align: top;\n",
              "    }\n",
              "\n",
              "    .dataframe thead th {\n",
              "        text-align: right;\n",
              "    }\n",
              "</style>\n",
              "<table border=\"1\" class=\"dataframe\">\n",
              "  <thead>\n",
              "    <tr style=\"text-align: right;\">\n",
              "      <th></th>\n",
              "      <th>index</th>\n",
              "      <th>headline</th>\n",
              "      <th>short_description</th>\n",
              "      <th>category</th>\n",
              "    </tr>\n",
              "  </thead>\n",
              "  <tbody>\n",
              "    <tr>\n",
              "      <th>0</th>\n",
              "      <td>155376</td>\n",
              "      <td>Body Clock Study Offers Clues To Possible Jet ...</td>\n",
              "      <td>(Reporting by Kate Kelland; Editing by Sonya H...</td>\n",
              "      <td>Wellness</td>\n",
              "    </tr>\n",
              "    <tr>\n",
              "      <th>1</th>\n",
              "      <td>85267</td>\n",
              "      <td>Uber Could Be World's Most Valuable Start-Up I...</td>\n",
              "      <td>Just three months after raising an enormous su...</td>\n",
              "      <td>Finance</td>\n",
              "    </tr>\n",
              "    <tr>\n",
              "      <th>2</th>\n",
              "      <td>66040</td>\n",
              "      <td>The Golden State Warriors Just Splashed Their ...</td>\n",
              "      <td>And naturally it was Curry who led the way.</td>\n",
              "      <td>Sports</td>\n",
              "    </tr>\n",
              "    <tr>\n",
              "      <th>3</th>\n",
              "      <td>150831</td>\n",
              "      <td>How To Wear Stackable Rings Without Looking Li...</td>\n",
              "      <td>And the best thing about this trend? You proba...</td>\n",
              "      <td>Style &amp; Beauty</td>\n",
              "    </tr>\n",
              "    <tr>\n",
              "      <th>4</th>\n",
              "      <td>139874</td>\n",
              "      <td>Tools for Fighting Prostate Cancer</td>\n",
              "      <td>By providing a nutrient-rich environment via o...</td>\n",
              "      <td>Wellness</td>\n",
              "    </tr>\n",
              "    <tr>\n",
              "      <th>...</th>\n",
              "      <td>...</td>\n",
              "      <td>...</td>\n",
              "      <td>...</td>\n",
              "      <td>...</td>\n",
              "    </tr>\n",
              "    <tr>\n",
              "      <th>125610</th>\n",
              "      <td>14792</td>\n",
              "      <td>6 Breathtaking Destinations With No Cell Servi...</td>\n",
              "      <td>1. Hacienda AltaGracia (Pérez Zeledón, Costa R...</td>\n",
              "      <td>Travel</td>\n",
              "    </tr>\n",
              "    <tr>\n",
              "      <th>125611</th>\n",
              "      <td>194478</td>\n",
              "      <td>Anna Wintour Takes In Wimbledon Matches, Smile...</td>\n",
              "      <td>So what does the ruler of the fashion world we...</td>\n",
              "      <td>Style &amp; Beauty</td>\n",
              "    </tr>\n",
              "    <tr>\n",
              "      <th>125612</th>\n",
              "      <td>82535</td>\n",
              "      <td>Diddy Trades Birthday Cake For Apple Pie, Like...</td>\n",
              "      <td>Party with pie. 🙌</td>\n",
              "      <td>Entertainment</td>\n",
              "    </tr>\n",
              "    <tr>\n",
              "      <th>125613</th>\n",
              "      <td>126046</td>\n",
              "      <td>Yes, You Can Cancel Cable And Still Keep HBO</td>\n",
              "      <td></td>\n",
              "      <td>Entertainment</td>\n",
              "    </tr>\n",
              "    <tr>\n",
              "      <th>125614</th>\n",
              "      <td>112894</td>\n",
              "      <td>Route 66, Ride for the Relay, Day 10</td>\n",
              "      <td>Just one more night on this magical highway my...</td>\n",
              "      <td>Travel</td>\n",
              "    </tr>\n",
              "  </tbody>\n",
              "</table>\n",
              "<p>125615 rows × 4 columns</p>\n",
              "</div>"
            ],
            "text/plain": [
              "         index                                           headline  \\\n",
              "0       155376  Body Clock Study Offers Clues To Possible Jet ...   \n",
              "1        85267  Uber Could Be World's Most Valuable Start-Up I...   \n",
              "2        66040  The Golden State Warriors Just Splashed Their ...   \n",
              "3       150831  How To Wear Stackable Rings Without Looking Li...   \n",
              "4       139874                 Tools for Fighting Prostate Cancer   \n",
              "...        ...                                                ...   \n",
              "125610   14792  6 Breathtaking Destinations With No Cell Servi...   \n",
              "125611  194478  Anna Wintour Takes In Wimbledon Matches, Smile...   \n",
              "125612   82535  Diddy Trades Birthday Cake For Apple Pie, Like...   \n",
              "125613  126046       Yes, You Can Cancel Cable And Still Keep HBO   \n",
              "125614  112894               Route 66, Ride for the Relay, Day 10   \n",
              "\n",
              "                                        short_description        category  \n",
              "0       (Reporting by Kate Kelland; Editing by Sonya H...        Wellness  \n",
              "1       Just three months after raising an enormous su...         Finance  \n",
              "2             And naturally it was Curry who led the way.          Sports  \n",
              "3       And the best thing about this trend? You proba...  Style & Beauty  \n",
              "4       By providing a nutrient-rich environment via o...        Wellness  \n",
              "...                                                   ...             ...  \n",
              "125610  1. Hacienda AltaGracia (Pérez Zeledón, Costa R...          Travel  \n",
              "125611  So what does the ruler of the fashion world we...  Style & Beauty  \n",
              "125612                                  Party with pie. 🙌   Entertainment  \n",
              "125613                                                      Entertainment  \n",
              "125614  Just one more night on this magical highway my...          Travel  \n",
              "\n",
              "[125615 rows x 4 columns]"
            ]
          },
          "execution_count": 73,
          "metadata": {},
          "output_type": "execute_result"
        }
      ],
      "source": [
        "#shuffle the dataframe\n",
        "df = df.sample(frac=1, random_state=42).reset_index(drop=True)\n",
        "df"
      ]
    },
    {
      "cell_type": "code",
      "execution_count": 74,
      "metadata": {
        "colab": {
          "base_uri": "https://localhost:8080/"
        },
        "id": "hnMfFQ1W4VYH",
        "outputId": "7c045c7e-9e61-4212-a3f8-ef8248516469"
      },
      "outputs": [
        {
          "data": {
            "text/plain": [
              "category\n",
              "Wellness          17945\n",
              "Finance           17945\n",
              "Sports            17945\n",
              "Style & Beauty    17945\n",
              "Entertainment     17945\n",
              "Politics          17945\n",
              "Travel            17945\n",
              "Name: count, dtype: int64"
            ]
          },
          "execution_count": 74,
          "metadata": {},
          "output_type": "execute_result"
        }
      ],
      "source": [
        "df['category'].value_counts()"
      ]
    },
    {
      "cell_type": "code",
      "execution_count": 75,
      "metadata": {
        "colab": {
          "base_uri": "https://localhost:8080/",
          "height": 398
        },
        "id": "M3H8XXYA-dwN",
        "outputId": "96d6e60e-d5db-4462-cd59-cc97e37554b5"
      },
      "outputs": [
        {
          "data": {
            "text/plain": [
              "<Axes: xlabel='category'>"
            ]
          },
          "execution_count": 75,
          "metadata": {},
          "output_type": "execute_result"
        },
        {
          "data": {
            "image/png": "[encoded data removed]",
            "text/plain": [
              "<Figure size 600x300 with 1 Axes>"
            ]
          },
          "metadata": {},
          "output_type": "display_data"
        }
      ],
      "source": [
        "df['category'].value_counts().plot( kind='bar', figsize=(6,3))"
      ]
    },
    {
      "cell_type": "code",
      "execution_count": 76,
      "metadata": {
        "colab": {
          "base_uri": "https://localhost:8080/",
          "height": 424
        },
        "id": "Qf_AKobHN7Vk",
        "outputId": "c578e447-2a6f-4360-c287-994c071bad58"
      },
      "outputs": [
        {
          "data": {
            "text/html": [
              "<div>\n",
              "<style scoped>\n",
              "    .dataframe tbody tr th:only-of-type {\n",
              "        vertical-align: middle;\n",
              "    }\n",
              "\n",
              "    .dataframe tbody tr th {\n",
              "        vertical-align: top;\n",
              "    }\n",
              "\n",
              "    .dataframe thead th {\n",
              "        text-align: right;\n",
              "    }\n",
              "</style>\n",
              "<table border=\"1\" class=\"dataframe\">\n",
              "  <thead>\n",
              "    <tr style=\"text-align: right;\">\n",
              "      <th></th>\n",
              "      <th>index</th>\n",
              "      <th>headline</th>\n",
              "      <th>text</th>\n",
              "      <th>category</th>\n",
              "    </tr>\n",
              "  </thead>\n",
              "  <tbody>\n",
              "    <tr>\n",
              "      <th>0</th>\n",
              "      <td>155376</td>\n",
              "      <td>Body Clock Study Offers Clues To Possible Jet ...</td>\n",
              "      <td>Body Clock Study Offers Clues To Possible Jet ...</td>\n",
              "      <td>Wellness</td>\n",
              "    </tr>\n",
              "    <tr>\n",
              "      <th>1</th>\n",
              "      <td>85267</td>\n",
              "      <td>Uber Could Be World's Most Valuable Start-Up I...</td>\n",
              "      <td>Uber Could Be World's Most Valuable Start-Up I...</td>\n",
              "      <td>Finance</td>\n",
              "    </tr>\n",
              "    <tr>\n",
              "      <th>2</th>\n",
              "      <td>66040</td>\n",
              "      <td>The Golden State Warriors Just Splashed Their ...</td>\n",
              "      <td>The Golden State Warriors Just Splashed Their ...</td>\n",
              "      <td>Sports</td>\n",
              "    </tr>\n",
              "    <tr>\n",
              "      <th>3</th>\n",
              "      <td>150831</td>\n",
              "      <td>How To Wear Stackable Rings Without Looking Li...</td>\n",
              "      <td>How To Wear Stackable Rings Without Looking Li...</td>\n",
              "      <td>Style &amp; Beauty</td>\n",
              "    </tr>\n",
              "    <tr>\n",
              "      <th>4</th>\n",
              "      <td>139874</td>\n",
              "      <td>Tools for Fighting Prostate Cancer</td>\n",
              "      <td>Tools for Fighting Prostate Cancer By providin...</td>\n",
              "      <td>Wellness</td>\n",
              "    </tr>\n",
              "    <tr>\n",
              "      <th>...</th>\n",
              "      <td>...</td>\n",
              "      <td>...</td>\n",
              "      <td>...</td>\n",
              "      <td>...</td>\n",
              "    </tr>\n",
              "    <tr>\n",
              "      <th>125610</th>\n",
              "      <td>14792</td>\n",
              "      <td>6 Breathtaking Destinations With No Cell Servi...</td>\n",
              "      <td>6 Breathtaking Destinations With No Cell Servi...</td>\n",
              "      <td>Travel</td>\n",
              "    </tr>\n",
              "    <tr>\n",
              "      <th>125611</th>\n",
              "      <td>194478</td>\n",
              "      <td>Anna Wintour Takes In Wimbledon Matches, Smile...</td>\n",
              "      <td>Anna Wintour Takes In Wimbledon Matches, Smile...</td>\n",
              "      <td>Style &amp; Beauty</td>\n",
              "    </tr>\n",
              "    <tr>\n",
              "      <th>125612</th>\n",
              "      <td>82535</td>\n",
              "      <td>Diddy Trades Birthday Cake For Apple Pie, Like...</td>\n",
              "      <td>Diddy Trades Birthday Cake For Apple Pie, Like...</td>\n",
              "      <td>Entertainment</td>\n",
              "    </tr>\n",
              "    <tr>\n",
              "      <th>125613</th>\n",
              "      <td>126046</td>\n",
              "      <td>Yes, You Can Cancel Cable And Still Keep HBO</td>\n",
              "      <td>Yes, You Can Cancel Cable And Still Keep HBO</td>\n",
              "      <td>Entertainment</td>\n",
              "    </tr>\n",
              "    <tr>\n",
              "      <th>125614</th>\n",
              "      <td>112894</td>\n",
              "      <td>Route 66, Ride for the Relay, Day 10</td>\n",
              "      <td>Route 66, Ride for the Relay, Day 10 Just one ...</td>\n",
              "      <td>Travel</td>\n",
              "    </tr>\n",
              "  </tbody>\n",
              "</table>\n",
              "<p>125615 rows × 4 columns</p>\n",
              "</div>"
            ],
            "text/plain": [
              "         index                                           headline  \\\n",
              "0       155376  Body Clock Study Offers Clues To Possible Jet ...   \n",
              "1        85267  Uber Could Be World's Most Valuable Start-Up I...   \n",
              "2        66040  The Golden State Warriors Just Splashed Their ...   \n",
              "3       150831  How To Wear Stackable Rings Without Looking Li...   \n",
              "4       139874                 Tools for Fighting Prostate Cancer   \n",
              "...        ...                                                ...   \n",
              "125610   14792  6 Breathtaking Destinations With No Cell Servi...   \n",
              "125611  194478  Anna Wintour Takes In Wimbledon Matches, Smile...   \n",
              "125612   82535  Diddy Trades Birthday Cake For Apple Pie, Like...   \n",
              "125613  126046       Yes, You Can Cancel Cable And Still Keep HBO   \n",
              "125614  112894               Route 66, Ride for the Relay, Day 10   \n",
              "\n",
              "                                                     text        category  \n",
              "0       Body Clock Study Offers Clues To Possible Jet ...        Wellness  \n",
              "1       Uber Could Be World's Most Valuable Start-Up I...         Finance  \n",
              "2       The Golden State Warriors Just Splashed Their ...          Sports  \n",
              "3       How To Wear Stackable Rings Without Looking Li...  Style & Beauty  \n",
              "4       Tools for Fighting Prostate Cancer By providin...        Wellness  \n",
              "...                                                   ...             ...  \n",
              "125610  6 Breathtaking Destinations With No Cell Servi...          Travel  \n",
              "125611  Anna Wintour Takes In Wimbledon Matches, Smile...  Style & Beauty  \n",
              "125612  Diddy Trades Birthday Cake For Apple Pie, Like...   Entertainment  \n",
              "125613      Yes, You Can Cancel Cable And Still Keep HBO    Entertainment  \n",
              "125614  Route 66, Ride for the Relay, Day 10 Just one ...          Travel  \n",
              "\n",
              "[125615 rows x 4 columns]"
            ]
          },
          "execution_count": 76,
          "metadata": {},
          "output_type": "execute_result"
        }
      ],
      "source": [
        "df = df.rename(columns = {'short_description':'text'})\n",
        "df['text'] = df['headline'] + \" \" + df['text']\n",
        "df"
      ]
    },
    {
      "cell_type": "code",
      "execution_count": 77,
      "metadata": {
        "id": "hEv7CVbNbcJy"
      },
      "outputs": [],
      "source": [
        "# import nltk\n",
        "# nltk.download('punkt')\n",
        "# nltk.download('stopwords')\n",
        "# nltk.download('wordnet')\n",
        "# nltk.download('averaged_perceptron_tagger')"
      ]
    },
    {
      "cell_type": "markdown",
      "metadata": {
        "id": "Az2oOyzIfDRR"
      },
      "source": [
        "clean,tokenize,remove stop word"
      ]
    },
    {
      "cell_type": "code",
      "execution_count": 78,
      "metadata": {
        "id": "mVzy8XgyfWeS"
      },
      "outputs": [],
      "source": [
        "stop_words = set(stopwords.words('english'))  #generate set of stopwords\n",
        "wn = WordNetLemmatizer()  #used to lemmatize the word(convert word into its base form)\n",
        "punc = list(string.punctuation) #generate the list of punctuation symbol\n",
        "\n",
        "def validate_text(token):\n",
        "  return  token not in stop_words and token not in punc  and len(token)>2\n",
        "\n",
        "def clean_text(text):\n",
        "  text = text.lower()\n",
        "  clean_text = []\n",
        "  text = re.sub(\"'\",\"\",text)\n",
        "  text = re.sub(r\"(\\d|\\W)+\", \" \", text)\n",
        "  for word in word_tokenize(text):\n",
        "    if validate_text(word):\n",
        "      lematized_word = wn.lemmatize(word,pos = \"v\")\n",
        "      clean_text.append(lematized_word)\n",
        "  return \" \".join(clean_text)\n"
      ]
    },
    {
      "cell_type": "code",
      "execution_count": 79,
      "metadata": {
        "colab": {
          "base_uri": "https://localhost:8080/",
          "height": 424
        },
        "id": "Vc3AzU5Dk9oQ",
        "outputId": "6de403c1-86da-47a5-92d8-9b8bcc038be8"
      },
      "outputs": [
        {
          "data": {
            "text/html": [
              "<div>\n",
              "<style scoped>\n",
              "    .dataframe tbody tr th:only-of-type {\n",
              "        vertical-align: middle;\n",
              "    }\n",
              "\n",
              "    .dataframe tbody tr th {\n",
              "        vertical-align: top;\n",
              "    }\n",
              "\n",
              "    .dataframe thead th {\n",
              "        text-align: right;\n",
              "    }\n",
              "</style>\n",
              "<table border=\"1\" class=\"dataframe\">\n",
              "  <thead>\n",
              "    <tr style=\"text-align: right;\">\n",
              "      <th></th>\n",
              "      <th>index</th>\n",
              "      <th>headline</th>\n",
              "      <th>text</th>\n",
              "      <th>category</th>\n",
              "      <th>cleaned_text</th>\n",
              "    </tr>\n",
              "  </thead>\n",
              "  <tbody>\n",
              "    <tr>\n",
              "      <th>0</th>\n",
              "      <td>155376</td>\n",
              "      <td>Body Clock Study Offers Clues To Possible Jet ...</td>\n",
              "      <td>Body Clock Study Offers Clues To Possible Jet ...</td>\n",
              "      <td>Wellness</td>\n",
              "      <td>body clock study offer clue possible jet lag c...</td>\n",
              "    </tr>\n",
              "    <tr>\n",
              "      <th>1</th>\n",
              "      <td>85267</td>\n",
              "      <td>Uber Could Be World's Most Valuable Start-Up I...</td>\n",
              "      <td>Uber Could Be World's Most Valuable Start-Up I...</td>\n",
              "      <td>Finance</td>\n",
              "      <td>uber could worlds valuable start billion fund ...</td>\n",
              "    </tr>\n",
              "    <tr>\n",
              "      <th>2</th>\n",
              "      <td>66040</td>\n",
              "      <td>The Golden State Warriors Just Splashed Their ...</td>\n",
              "      <td>The Golden State Warriors Just Splashed Their ...</td>\n",
              "      <td>Sports</td>\n",
              "      <td>golden state warriors splash way nba finals na...</td>\n",
              "    </tr>\n",
              "    <tr>\n",
              "      <th>3</th>\n",
              "      <td>150831</td>\n",
              "      <td>How To Wear Stackable Rings Without Looking Li...</td>\n",
              "      <td>How To Wear Stackable Rings Without Looking Li...</td>\n",
              "      <td>Style &amp; Beauty</td>\n",
              "      <td>wear stackable ring without look like best thi...</td>\n",
              "    </tr>\n",
              "    <tr>\n",
              "      <th>4</th>\n",
              "      <td>139874</td>\n",
              "      <td>Tools for Fighting Prostate Cancer</td>\n",
              "      <td>Tools for Fighting Prostate Cancer By providin...</td>\n",
              "      <td>Wellness</td>\n",
              "      <td>tool fight prostate cancer provide nutrient ri...</td>\n",
              "    </tr>\n",
              "    <tr>\n",
              "      <th>...</th>\n",
              "      <td>...</td>\n",
              "      <td>...</td>\n",
              "      <td>...</td>\n",
              "      <td>...</td>\n",
              "      <td>...</td>\n",
              "    </tr>\n",
              "    <tr>\n",
              "      <th>125610</th>\n",
              "      <td>14792</td>\n",
              "      <td>6 Breathtaking Destinations With No Cell Servi...</td>\n",
              "      <td>6 Breathtaking Destinations With No Cell Servi...</td>\n",
              "      <td>Travel</td>\n",
              "      <td>breathtaking destinations cell service next va...</td>\n",
              "    </tr>\n",
              "    <tr>\n",
              "      <th>125611</th>\n",
              "      <td>194478</td>\n",
              "      <td>Anna Wintour Takes In Wimbledon Matches, Smile...</td>\n",
              "      <td>Anna Wintour Takes In Wimbledon Matches, Smile...</td>\n",
              "      <td>Style &amp; Beauty</td>\n",
              "      <td>anna wintour take wimbledon match smile photos...</td>\n",
              "    </tr>\n",
              "    <tr>\n",
              "      <th>125612</th>\n",
              "      <td>82535</td>\n",
              "      <td>Diddy Trades Birthday Cake For Apple Pie, Like...</td>\n",
              "      <td>Diddy Trades Birthday Cake For Apple Pie, Like...</td>\n",
              "      <td>Entertainment</td>\n",
              "      <td>diddy trade birthday cake apple pie like boss ...</td>\n",
              "    </tr>\n",
              "    <tr>\n",
              "      <th>125613</th>\n",
              "      <td>126046</td>\n",
              "      <td>Yes, You Can Cancel Cable And Still Keep HBO</td>\n",
              "      <td>Yes, You Can Cancel Cable And Still Keep HBO</td>\n",
              "      <td>Entertainment</td>\n",
              "      <td>yes cancel cable still keep hbo</td>\n",
              "    </tr>\n",
              "    <tr>\n",
              "      <th>125614</th>\n",
              "      <td>112894</td>\n",
              "      <td>Route 66, Ride for the Relay, Day 10</td>\n",
              "      <td>Route 66, Ride for the Relay, Day 10 Just one ...</td>\n",
              "      <td>Travel</td>\n",
              "      <td>route ride relay day one night magical highway...</td>\n",
              "    </tr>\n",
              "  </tbody>\n",
              "</table>\n",
              "<p>125615 rows × 5 columns</p>\n",
              "</div>"
            ],
            "text/plain": [
              "         index                                           headline  \\\n",
              "0       155376  Body Clock Study Offers Clues To Possible Jet ...   \n",
              "1        85267  Uber Could Be World's Most Valuable Start-Up I...   \n",
              "2        66040  The Golden State Warriors Just Splashed Their ...   \n",
              "3       150831  How To Wear Stackable Rings Without Looking Li...   \n",
              "4       139874                 Tools for Fighting Prostate Cancer   \n",
              "...        ...                                                ...   \n",
              "125610   14792  6 Breathtaking Destinations With No Cell Servi...   \n",
              "125611  194478  Anna Wintour Takes In Wimbledon Matches, Smile...   \n",
              "125612   82535  Diddy Trades Birthday Cake For Apple Pie, Like...   \n",
              "125613  126046       Yes, You Can Cancel Cable And Still Keep HBO   \n",
              "125614  112894               Route 66, Ride for the Relay, Day 10   \n",
              "\n",
              "                                                     text        category  \\\n",
              "0       Body Clock Study Offers Clues To Possible Jet ...        Wellness   \n",
              "1       Uber Could Be World's Most Valuable Start-Up I...         Finance   \n",
              "2       The Golden State Warriors Just Splashed Their ...          Sports   \n",
              "3       How To Wear Stackable Rings Without Looking Li...  Style & Beauty   \n",
              "4       Tools for Fighting Prostate Cancer By providin...        Wellness   \n",
              "...                                                   ...             ...   \n",
              "125610  6 Breathtaking Destinations With No Cell Servi...          Travel   \n",
              "125611  Anna Wintour Takes In Wimbledon Matches, Smile...  Style & Beauty   \n",
              "125612  Diddy Trades Birthday Cake For Apple Pie, Like...   Entertainment   \n",
              "125613      Yes, You Can Cancel Cable And Still Keep HBO    Entertainment   \n",
              "125614  Route 66, Ride for the Relay, Day 10 Just one ...          Travel   \n",
              "\n",
              "                                             cleaned_text  \n",
              "0       body clock study offer clue possible jet lag c...  \n",
              "1       uber could worlds valuable start billion fund ...  \n",
              "2       golden state warriors splash way nba finals na...  \n",
              "3       wear stackable ring without look like best thi...  \n",
              "4       tool fight prostate cancer provide nutrient ri...  \n",
              "...                                                   ...  \n",
              "125610  breathtaking destinations cell service next va...  \n",
              "125611  anna wintour take wimbledon match smile photos...  \n",
              "125612  diddy trade birthday cake apple pie like boss ...  \n",
              "125613                    yes cancel cable still keep hbo  \n",
              "125614  route ride relay day one night magical highway...  \n",
              "\n",
              "[125615 rows x 5 columns]"
            ]
          },
          "execution_count": 79,
          "metadata": {},
          "output_type": "execute_result"
        }
      ],
      "source": [
        "df['cleaned_text'] = df['text'].apply(clean_text)\n",
        "df\n"
      ]
    },
    {
      "cell_type": "code",
      "execution_count": 80,
      "metadata": {
        "colab": {
          "base_uri": "https://localhost:8080/",
          "height": 424
        },
        "id": "-QUdrDJqrTAb",
        "outputId": "ae84b952-9318-4663-cd70-d99fe97e973c"
      },
      "outputs": [
        {
          "data": {
            "text/html": [
              "<div>\n",
              "<style scoped>\n",
              "    .dataframe tbody tr th:only-of-type {\n",
              "        vertical-align: middle;\n",
              "    }\n",
              "\n",
              "    .dataframe tbody tr th {\n",
              "        vertical-align: top;\n",
              "    }\n",
              "\n",
              "    .dataframe thead th {\n",
              "        text-align: right;\n",
              "    }\n",
              "</style>\n",
              "<table border=\"1\" class=\"dataframe\">\n",
              "  <thead>\n",
              "    <tr style=\"text-align: right;\">\n",
              "      <th></th>\n",
              "      <th>index</th>\n",
              "      <th>headline</th>\n",
              "      <th>text</th>\n",
              "      <th>category</th>\n",
              "      <th>cleaned_text</th>\n",
              "    </tr>\n",
              "  </thead>\n",
              "  <tbody>\n",
              "    <tr>\n",
              "      <th>0</th>\n",
              "      <td>155376</td>\n",
              "      <td>Body Clock Study Offers Clues To Possible Jet ...</td>\n",
              "      <td>Body Clock Study Offers Clues To Possible Jet ...</td>\n",
              "      <td>Wellness</td>\n",
              "      <td>body clock study offer clue possible jet lag c...</td>\n",
              "    </tr>\n",
              "    <tr>\n",
              "      <th>1</th>\n",
              "      <td>85267</td>\n",
              "      <td>Uber Could Be World's Most Valuable Start-Up I...</td>\n",
              "      <td>Uber Could Be World's Most Valuable Start-Up I...</td>\n",
              "      <td>Finance</td>\n",
              "      <td>uber could worlds valuable start billion fund ...</td>\n",
              "    </tr>\n",
              "    <tr>\n",
              "      <th>2</th>\n",
              "      <td>66040</td>\n",
              "      <td>The Golden State Warriors Just Splashed Their ...</td>\n",
              "      <td>The Golden State Warriors Just Splashed Their ...</td>\n",
              "      <td>Sports</td>\n",
              "      <td>golden state warriors splash way nba finals na...</td>\n",
              "    </tr>\n",
              "    <tr>\n",
              "      <th>3</th>\n",
              "      <td>150831</td>\n",
              "      <td>How To Wear Stackable Rings Without Looking Li...</td>\n",
              "      <td>How To Wear Stackable Rings Without Looking Li...</td>\n",
              "      <td>Style &amp; Beauty</td>\n",
              "      <td>wear stackable ring without look like best thi...</td>\n",
              "    </tr>\n",
              "    <tr>\n",
              "      <th>4</th>\n",
              "      <td>139874</td>\n",
              "      <td>Tools for Fighting Prostate Cancer</td>\n",
              "      <td>Tools for Fighting Prostate Cancer By providin...</td>\n",
              "      <td>Wellness</td>\n",
              "      <td>tool fight prostate cancer provide nutrient ri...</td>\n",
              "    </tr>\n",
              "    <tr>\n",
              "      <th>...</th>\n",
              "      <td>...</td>\n",
              "      <td>...</td>\n",
              "      <td>...</td>\n",
              "      <td>...</td>\n",
              "      <td>...</td>\n",
              "    </tr>\n",
              "    <tr>\n",
              "      <th>125610</th>\n",
              "      <td>14792</td>\n",
              "      <td>6 Breathtaking Destinations With No Cell Servi...</td>\n",
              "      <td>6 Breathtaking Destinations With No Cell Servi...</td>\n",
              "      <td>Travel</td>\n",
              "      <td>breathtaking destinations cell service next va...</td>\n",
              "    </tr>\n",
              "    <tr>\n",
              "      <th>125611</th>\n",
              "      <td>194478</td>\n",
              "      <td>Anna Wintour Takes In Wimbledon Matches, Smile...</td>\n",
              "      <td>Anna Wintour Takes In Wimbledon Matches, Smile...</td>\n",
              "      <td>Style &amp; Beauty</td>\n",
              "      <td>anna wintour take wimbledon match smile photos...</td>\n",
              "    </tr>\n",
              "    <tr>\n",
              "      <th>125612</th>\n",
              "      <td>82535</td>\n",
              "      <td>Diddy Trades Birthday Cake For Apple Pie, Like...</td>\n",
              "      <td>Diddy Trades Birthday Cake For Apple Pie, Like...</td>\n",
              "      <td>Entertainment</td>\n",
              "      <td>diddy trade birthday cake apple pie like boss ...</td>\n",
              "    </tr>\n",
              "    <tr>\n",
              "      <th>125613</th>\n",
              "      <td>126046</td>\n",
              "      <td>Yes, You Can Cancel Cable And Still Keep HBO</td>\n",
              "      <td>Yes, You Can Cancel Cable And Still Keep HBO</td>\n",
              "      <td>Entertainment</td>\n",
              "      <td>yes cancel cable still keep hbo</td>\n",
              "    </tr>\n",
              "    <tr>\n",
              "      <th>125614</th>\n",
              "      <td>112894</td>\n",
              "      <td>Route 66, Ride for the Relay, Day 10</td>\n",
              "      <td>Route 66, Ride for the Relay, Day 10 Just one ...</td>\n",
              "      <td>Travel</td>\n",
              "      <td>route ride relay day one night magical highway...</td>\n",
              "    </tr>\n",
              "  </tbody>\n",
              "</table>\n",
              "<p>125607 rows × 5 columns</p>\n",
              "</div>"
            ],
            "text/plain": [
              "         index                                           headline  \\\n",
              "0       155376  Body Clock Study Offers Clues To Possible Jet ...   \n",
              "1        85267  Uber Could Be World's Most Valuable Start-Up I...   \n",
              "2        66040  The Golden State Warriors Just Splashed Their ...   \n",
              "3       150831  How To Wear Stackable Rings Without Looking Li...   \n",
              "4       139874                 Tools for Fighting Prostate Cancer   \n",
              "...        ...                                                ...   \n",
              "125610   14792  6 Breathtaking Destinations With No Cell Servi...   \n",
              "125611  194478  Anna Wintour Takes In Wimbledon Matches, Smile...   \n",
              "125612   82535  Diddy Trades Birthday Cake For Apple Pie, Like...   \n",
              "125613  126046       Yes, You Can Cancel Cable And Still Keep HBO   \n",
              "125614  112894               Route 66, Ride for the Relay, Day 10   \n",
              "\n",
              "                                                     text        category  \\\n",
              "0       Body Clock Study Offers Clues To Possible Jet ...        Wellness   \n",
              "1       Uber Could Be World's Most Valuable Start-Up I...         Finance   \n",
              "2       The Golden State Warriors Just Splashed Their ...          Sports   \n",
              "3       How To Wear Stackable Rings Without Looking Li...  Style & Beauty   \n",
              "4       Tools for Fighting Prostate Cancer By providin...        Wellness   \n",
              "...                                                   ...             ...   \n",
              "125610  6 Breathtaking Destinations With No Cell Servi...          Travel   \n",
              "125611  Anna Wintour Takes In Wimbledon Matches, Smile...  Style & Beauty   \n",
              "125612  Diddy Trades Birthday Cake For Apple Pie, Like...   Entertainment   \n",
              "125613      Yes, You Can Cancel Cable And Still Keep HBO    Entertainment   \n",
              "125614  Route 66, Ride for the Relay, Day 10 Just one ...          Travel   \n",
              "\n",
              "                                             cleaned_text  \n",
              "0       body clock study offer clue possible jet lag c...  \n",
              "1       uber could worlds valuable start billion fund ...  \n",
              "2       golden state warriors splash way nba finals na...  \n",
              "3       wear stackable ring without look like best thi...  \n",
              "4       tool fight prostate cancer provide nutrient ri...  \n",
              "...                                                   ...  \n",
              "125610  breathtaking destinations cell service next va...  \n",
              "125611  anna wintour take wimbledon match smile photos...  \n",
              "125612  diddy trade birthday cake apple pie like boss ...  \n",
              "125613                    yes cancel cable still keep hbo  \n",
              "125614  route ride relay day one night magical highway...  \n",
              "\n",
              "[125607 rows x 5 columns]"
            ]
          },
          "execution_count": 80,
          "metadata": {},
          "output_type": "execute_result"
        }
      ],
      "source": [
        "df = df[df['cleaned_text'] != '']\n",
        "df"
      ]
    },
    {
      "cell_type": "markdown",
      "metadata": {
        "id": "8xX5SJIS6Yrv"
      },
      "source": [
        "create some new varaible that can be used as additional feature to improve the quality of the classifier"
      ]
    },
    {
      "cell_type": "code",
      "execution_count": 81,
      "metadata": {
        "id": "2bTpMTUh8pJk"
      },
      "outputs": [],
      "source": [
        "# def calculate_polarity_subjectivity(text):\n",
        "#   blob = TextBlob(text).sentiment\n",
        "#   polarity = blob[0]\n",
        "#   subjectivity = blob[1]\n",
        "#   return polarity,subjectivity\n",
        "\n",
        "# def text_len(text):\n",
        "#   if len(text.split()) > 0:\n",
        "#     return len(text.split())\n",
        "#   else:\n",
        "#     return 0\n",
        "\n",
        "# df['Polarity'],df['Subjectivity'] = zip(*df['text'].apply(calculate_polarity_subjectivity))\n",
        "# df['Text Length'] = df['text'].apply(text_len)\n",
        "# df"
      ]
    },
    {
      "cell_type": "code",
      "execution_count": 82,
      "metadata": {
        "id": "s2Xwt1dDE6Cc"
      },
      "outputs": [],
      "source": [
        "# df.loc[:, 'text'] = df['cleaned_text']  #replce text column with cleaned_text column\n",
        "# df = df[['text','Polarity','Subjectivity','Text Length','category']]\n",
        "# df"
      ]
    },
    {
      "cell_type": "code",
      "execution_count": 83,
      "metadata": {
        "colab": {
          "base_uri": "https://localhost:8080/"
        },
        "id": "tJVG3gZ1ascx",
        "outputId": "4b3c96dd-5c0e-4655-c43a-66dbe0fde7a5"
      },
      "outputs": [
        {
          "data": {
            "text/plain": [
              "array(['Wellness', 'Finance', 'Sports', 'Style & Beauty', 'Entertainment',\n",
              "       'Politics', 'Travel'], dtype=object)"
            ]
          },
          "execution_count": 83,
          "metadata": {},
          "output_type": "execute_result"
        }
      ],
      "source": [
        "df['category'].unique()"
      ]
    },
    {
      "cell_type": "code",
      "execution_count": 84,
      "metadata": {
        "colab": {
          "base_uri": "https://localhost:8080/"
        },
        "id": "fHrQcqS5a0VQ",
        "outputId": "f634a261-2720-425b-acae-66aafe726b1f"
      },
      "outputs": [
        {
          "data": {
            "text/plain": [
              "category\n",
              "Wellness          17945\n",
              "Sports            17945\n",
              "Style & Beauty    17945\n",
              "Finance           17944\n",
              "Politics          17944\n",
              "Travel            17944\n",
              "Entertainment     17940\n",
              "Name: count, dtype: int64"
            ]
          },
          "execution_count": 84,
          "metadata": {},
          "output_type": "execute_result"
        }
      ],
      "source": [
        "df['category'].value_counts(ascending = False)"
      ]
    },
    {
      "cell_type": "code",
      "execution_count": 85,
      "metadata": {
        "id": "xvBhTDm8gfNd"
      },
      "outputs": [],
      "source": [
        "# df['Subjectivity'].min()"
      ]
    },
    {
      "cell_type": "code",
      "execution_count": 86,
      "metadata": {
        "id": "_KvgAJ32gsHl"
      },
      "outputs": [],
      "source": [
        "# df['Polarity'].max()"
      ]
    },
    {
      "cell_type": "code",
      "execution_count": 87,
      "metadata": {
        "id": "NUeywSGjg9lV"
      },
      "outputs": [],
      "source": [
        "# import matplotlib.pyplot as plt\n",
        "# politics = df[df['category'] == 'Politics']\n",
        "# poltics = politics['text']\n",
        "# text_combined = ' '.join(poltics)\n",
        "\n",
        "# # Generate word cloud\n",
        "# wordcloud = WordCloud(width=800, height=400, background_color ='white').generate(text_combined)\n",
        "\n",
        "# # Display the generated word cloud\n",
        "# plt.figure(figsize=(10, 5))\n",
        "# plt.imshow(wordcloud, interpolation='bilinear')\n",
        "# plt.axis('off')\n",
        "# plt.show()\n"
      ]
    },
    {
      "cell_type": "code",
      "execution_count": 88,
      "metadata": {
        "id": "T_j6Fl76Btge"
      },
      "outputs": [],
      "source": [
        "# X = df[['text','Polarity','Subjectivity','Text Length']]\n",
        "X = df['text']\n",
        "y= df['category']"
      ]
    },
    {
      "cell_type": "code",
      "execution_count": 89,
      "metadata": {
        "colab": {
          "base_uri": "https://localhost:8080/"
        },
        "id": "sO1xZqDeDrnS",
        "outputId": "fa469dbf-3ba2-4241-f06c-6f6f7a178f6e"
      },
      "outputs": [
        {
          "data": {
            "text/plain": [
              "0         Body Clock Study Offers Clues To Possible Jet ...\n",
              "1         Uber Could Be World's Most Valuable Start-Up I...\n",
              "2         The Golden State Warriors Just Splashed Their ...\n",
              "3         How To Wear Stackable Rings Without Looking Li...\n",
              "4         Tools for Fighting Prostate Cancer By providin...\n",
              "                                ...                        \n",
              "125610    6 Breathtaking Destinations With No Cell Servi...\n",
              "125611    Anna Wintour Takes In Wimbledon Matches, Smile...\n",
              "125612    Diddy Trades Birthday Cake For Apple Pie, Like...\n",
              "125613        Yes, You Can Cancel Cable And Still Keep HBO \n",
              "125614    Route 66, Ride for the Relay, Day 10 Just one ...\n",
              "Name: text, Length: 125607, dtype: object"
            ]
          },
          "execution_count": 89,
          "metadata": {},
          "output_type": "execute_result"
        }
      ],
      "source": [
        "X"
      ]
    },
    {
      "cell_type": "code",
      "execution_count": 90,
      "metadata": {
        "colab": {
          "base_uri": "https://localhost:8080/"
        },
        "id": "MKMkeCFmDsf5",
        "outputId": "0b5b06ec-6adc-476b-9cae-01f6b02c661e"
      },
      "outputs": [
        {
          "data": {
            "text/plain": [
              "0               Wellness\n",
              "1                Finance\n",
              "2                 Sports\n",
              "3         Style & Beauty\n",
              "4               Wellness\n",
              "               ...      \n",
              "125610            Travel\n",
              "125611    Style & Beauty\n",
              "125612     Entertainment\n",
              "125613     Entertainment\n",
              "125614            Travel\n",
              "Name: category, Length: 125607, dtype: object"
            ]
          },
          "execution_count": 90,
          "metadata": {},
          "output_type": "execute_result"
        }
      ],
      "source": [
        "y"
      ]
    },
    {
      "cell_type": "code",
      "execution_count": 91,
      "metadata": {
        "id": "Kn8BCaNLDthC"
      },
      "outputs": [],
      "source": [
        "X_train,X_test,y_train,y_test = train_test_split(X,y,test_size = 0.3, random_state = 0, shuffle = True)"
      ]
    },
    {
      "cell_type": "code",
      "execution_count": 92,
      "metadata": {
        "colab": {
          "base_uri": "https://localhost:8080/"
        },
        "id": "_t8RO6gTEPyi",
        "outputId": "05647f7d-13f9-4450-b35a-d774f41aebb9"
      },
      "outputs": [
        {
          "name": "stdout",
          "output_type": "stream",
          "text": [
            "X_train.shape: (87924,)\n",
            "X_test.shape: (37683,)\n",
            "y_train.shape: (87924,)\n",
            "y_test.shape: (37683,)\n"
          ]
        }
      ],
      "source": [
        "print(f\"X_train.shape: {X_train.shape}\\nX_test.shape: {X_test.shape}\\ny_train.shape: {y_train.shape}\\ny_test.shape: {y_test.shape}\")"
      ]
    },
    {
      "cell_type": "code",
      "execution_count": 93,
      "metadata": {
        "id": "K73fQmzqg2UO"
      },
      "outputs": [],
      "source": [
        "# Step 2: Text Vectorization\n",
        "vectorizer = CountVectorizer()\n",
        "X_train_vectorized = vectorizer.fit_transform(X_train)\n",
        "X_test_vectorized = vectorizer.transform(X_test)\n",
        "\n",
        "# # Step 3: Feature Scaling\n",
        "# scaler = StandardScaler()\n",
        "# X_train_numeric = scaler.fit_transform(X_train[['Polarity', 'Subjectivity', 'Text Length']])\n",
        "# X_test_numeric = scaler.transform(X_test[['Polarity', 'Subjectivity', 'Text Length']])\n",
        "\n",
        "# # Combine text features and numeric features\n",
        "# import scipy.sparse as sp\n",
        "# X_train_final = sp.hstack((X_train_text_features, X_train_numeric), format='csr')\n",
        "# X_test_final = sp.hstack((X_test_text_features, X_test_numeric), format='csr')"
      ]
    },
    {
      "cell_type": "code",
      "execution_count": 94,
      "metadata": {
        "colab": {
          "base_uri": "https://localhost:8080/"
        },
        "id": "7qgxD7uVhjuF",
        "outputId": "5c3a1bb8-35cb-4535-be59-c134ad9b6578"
      },
      "outputs": [
        {
          "name": "stdout",
          "output_type": "stream",
          "text": [
            "<class 'scipy.sparse._csr.csr_matrix'>\n"
          ]
        }
      ],
      "source": [
        "print(type(X_train_vectorized))"
      ]
    },
    {
      "cell_type": "code",
      "execution_count": 95,
      "metadata": {
        "id": "37Gi5IX6iL7E"
      },
      "outputs": [],
      "source": [
        "logistic_reg = LogisticRegression(multi_class = 'ovr',max_iter = 1000)\n",
        "# model = OneVsRestClassifier(logistic_reg)\n",
        "model = logistic_reg"
      ]
    },
    {
      "cell_type": "code",
      "execution_count": 96,
      "metadata": {
        "colab": {
          "base_uri": "https://localhost:8080/",
          "height": 75
        },
        "id": "6fhJxrUsjD-i",
        "outputId": "c488b394-3ecd-4fdd-d6c4-71e5fa2c1fc6"
      },
      "outputs": [
        {
          "data": {
            "text/html": [
              "<style>#sk-container-id-2 {\n",
              "  /* Definition of color scheme common for light and dark mode */\n",
              "  --sklearn-color-text: black;\n",
              "  --sklearn-color-line: gray;\n",
              "  /* Definition of color scheme for unfitted estimators */\n",
              "  --sklearn-color-unfitted-level-0: #fff5e6;\n",
              "  --sklearn-color-unfitted-level-1: #f6e4d2;\n",
              "  --sklearn-color-unfitted-level-2: #ffe0b3;\n",
              "  --sklearn-color-unfitted-level-3: chocolate;\n",
              "  /* Definition of color scheme for fitted estimators */\n",
              "  --sklearn-color-fitted-level-0: #f0f8ff;\n",
              "  --sklearn-color-fitted-level-1: #d4ebff;\n",
              "  --sklearn-color-fitted-level-2: #b3dbfd;\n",
              "  --sklearn-color-fitted-level-3: cornflowerblue;\n",
              "\n",
              "  /* Specific color for light theme */\n",
              "  --sklearn-color-text-on-default-background: var(--sg-text-color, var(--theme-code-foreground, var(--jp-content-font-color1, black)));\n",
              "  --sklearn-color-background: var(--sg-background-color, var(--theme-background, var(--jp-layout-color0, white)));\n",
              "  --sklearn-color-border-box: var(--sg-text-color, var(--theme-code-foreground, var(--jp-content-font-color1, black)));\n",
              "  --sklearn-color-icon: #696969;\n",
              "\n",
              "  @media (prefers-color-scheme: dark) {\n",
              "    /* Redefinition of color scheme for dark theme */\n",
              "    --sklearn-color-text-on-default-background: var(--sg-text-color, var(--theme-code-foreground, var(--jp-content-font-color1, white)));\n",
              "    --sklearn-color-background: var(--sg-background-color, var(--theme-background, var(--jp-layout-color0, #111)));\n",
              "    --sklearn-color-border-box: var(--sg-text-color, var(--theme-code-foreground, var(--jp-content-font-color1, white)));\n",
              "    --sklearn-color-icon: #878787;\n",
              "  }\n",
              "}\n",
              "\n",
              "#sk-container-id-2 {\n",
              "  color: var(--sklearn-color-text);\n",
              "}\n",
              "\n",
              "#sk-container-id-2 pre {\n",
              "  padding: 0;\n",
              "}\n",
              "\n",
              "#sk-container-id-2 input.sk-hidden--visually {\n",
              "  border: 0;\n",
              "  clip: rect(1px 1px 1px 1px);\n",
              "  clip: rect(1px, 1px, 1px, 1px);\n",
              "  height: 1px;\n",
              "  margin: -1px;\n",
              "  overflow: hidden;\n",
              "  padding: 0;\n",
              "  position: absolute;\n",
              "  width: 1px;\n",
              "}\n",
              "\n",
              "#sk-container-id-2 div.sk-dashed-wrapped {\n",
              "  border: 1px dashed var(--sklearn-color-line);\n",
              "  margin: 0 0.4em 0.5em 0.4em;\n",
              "  box-sizing: border-box;\n",
              "  padding-bottom: 0.4em;\n",
              "  background-color: var(--sklearn-color-background);\n",
              "}\n",
              "\n",
              "#sk-container-id-2 div.sk-container {\n",
              "  /* jupyter's `normalize.less` sets `[hidden] { display: none; }`\n",
              "     but bootstrap.min.css set `[hidden] { display: none !important; }`\n",
              "     so we also need the `!important` here to be able to override the\n",
              "     default hidden behavior on the sphinx rendered scikit-learn.org.\n",
              "     See: https://github.com/scikit-learn/scikit-learn/issues/21755 */\n",
              "  display: inline-block !important;\n",
              "  position: relative;\n",
              "}\n",
              "\n",
              "#sk-container-id-2 div.sk-text-repr-fallback {\n",
              "  display: none;\n",
              "}\n",
              "\n",
              "div.sk-parallel-item,\n",
              "div.sk-serial,\n",
              "div.sk-item {\n",
              "  /* draw centered vertical line to link estimators */\n",
              "  background-image: linear-gradient(var(--sklearn-color-text-on-default-background), var(--sklearn-color-text-on-default-background));\n",
              "  background-size: 2px 100%;\n",
              "  background-repeat: no-repeat;\n",
              "  background-position: center center;\n",
              "}\n",
              "\n",
              "/* Parallel-specific style estimator block */\n",
              "\n",
              "#sk-container-id-2 div.sk-parallel-item::after {\n",
              "  content: \"\";\n",
              "  width: 100%;\n",
              "  border-bottom: 2px solid var(--sklearn-color-text-on-default-background);\n",
              "  flex-grow: 1;\n",
              "}\n",
              "\n",
              "#sk-container-id-2 div.sk-parallel {\n",
              "  display: flex;\n",
              "  align-items: stretch;\n",
              "  justify-content: center;\n",
              "  background-color: var(--sklearn-color-background);\n",
              "  position: relative;\n",
              "}\n",
              "\n",
              "#sk-container-id-2 div.sk-parallel-item {\n",
              "  display: flex;\n",
              "  flex-direction: column;\n",
              "}\n",
              "\n",
              "#sk-container-id-2 div.sk-parallel-item:first-child::after {\n",
              "  align-self: flex-end;\n",
              "  width: 50%;\n",
              "}\n",
              "\n",
              "#sk-container-id-2 div.sk-parallel-item:last-child::after {\n",
              "  align-self: flex-start;\n",
              "  width: 50%;\n",
              "}\n",
              "\n",
              "#sk-container-id-2 div.sk-parallel-item:only-child::after {\n",
              "  width: 0;\n",
              "}\n",
              "\n",
              "/* Serial-specific style estimator block */\n",
              "\n",
              "#sk-container-id-2 div.sk-serial {\n",
              "  display: flex;\n",
              "  flex-direction: column;\n",
              "  align-items: center;\n",
              "  background-color: var(--sklearn-color-background);\n",
              "  padding-right: 1em;\n",
              "  padding-left: 1em;\n",
              "}\n",
              "\n",
              "\n",
              "/* Toggleable style: style used for estimator/Pipeline/ColumnTransformer box that is\n",
              "clickable and can be expanded/collapsed.\n",
              "- Pipeline and ColumnTransformer use this feature and define the default style\n",
              "- Estimators will overwrite some part of the style using the `sk-estimator` class\n",
              "*/\n",
              "\n",
              "/* Pipeline and ColumnTransformer style (default) */\n",
              "\n",
              "#sk-container-id-2 div.sk-toggleable {\n",
              "  /* Default theme specific background. It is overwritten whether we have a\n",
              "  specific estimator or a Pipeline/ColumnTransformer */\n",
              "  background-color: var(--sklearn-color-background);\n",
              "}\n",
              "\n",
              "/* Toggleable label */\n",
              "#sk-container-id-2 label.sk-toggleable__label {\n",
              "  cursor: pointer;\n",
              "  display: block;\n",
              "  width: 100%;\n",
              "  margin-bottom: 0;\n",
              "  padding: 0.5em;\n",
              "  box-sizing: border-box;\n",
              "  text-align: center;\n",
              "}\n",
              "\n",
              "#sk-container-id-2 label.sk-toggleable__label-arrow:before {\n",
              "  /* Arrow on the left of the label */\n",
              "  content: \"▸\";\n",
              "  float: left;\n",
              "  margin-right: 0.25em;\n",
              "  color: var(--sklearn-color-icon);\n",
              "}\n",
              "\n",
              "#sk-container-id-2 label.sk-toggleable__label-arrow:hover:before {\n",
              "  color: var(--sklearn-color-text);\n",
              "}\n",
              "\n",
              "/* Toggleable content - dropdown */\n",
              "\n",
              "#sk-container-id-2 div.sk-toggleable__content {\n",
              "  max-height: 0;\n",
              "  max-width: 0;\n",
              "  overflow: hidden;\n",
              "  text-align: left;\n",
              "  /* unfitted */\n",
              "  background-color: var(--sklearn-color-unfitted-level-0);\n",
              "}\n",
              "\n",
              "#sk-container-id-2 div.sk-toggleable__content.fitted {\n",
              "  /* fitted */\n",
              "  background-color: var(--sklearn-color-fitted-level-0);\n",
              "}\n",
              "\n",
              "#sk-container-id-2 div.sk-toggleable__content pre {\n",
              "  margin: 0.2em;\n",
              "  border-radius: 0.25em;\n",
              "  color: var(--sklearn-color-text);\n",
              "  /* unfitted */\n",
              "  background-color: var(--sklearn-color-unfitted-level-0);\n",
              "}\n",
              "\n",
              "#sk-container-id-2 div.sk-toggleable__content.fitted pre {\n",
              "  /* unfitted */\n",
              "  background-color: var(--sklearn-color-fitted-level-0);\n",
              "}\n",
              "\n",
              "#sk-container-id-2 input.sk-toggleable__control:checked~div.sk-toggleable__content {\n",
              "  /* Expand drop-down */\n",
              "  max-height: 200px;\n",
              "  max-width: 100%;\n",
              "  overflow: auto;\n",
              "}\n",
              "\n",
              "#sk-container-id-2 input.sk-toggleable__control:checked~label.sk-toggleable__label-arrow:before {\n",
              "  content: \"▾\";\n",
              "}\n",
              "\n",
              "/* Pipeline/ColumnTransformer-specific style */\n",
              "\n",
              "#sk-container-id-2 div.sk-label input.sk-toggleable__control:checked~label.sk-toggleable__label {\n",
              "  color: var(--sklearn-color-text);\n",
              "  background-color: var(--sklearn-color-unfitted-level-2);\n",
              "}\n",
              "\n",
              "#sk-container-id-2 div.sk-label.fitted input.sk-toggleable__control:checked~label.sk-toggleable__label {\n",
              "  background-color: var(--sklearn-color-fitted-level-2);\n",
              "}\n",
              "\n",
              "/* Estimator-specific style */\n",
              "\n",
              "/* Colorize estimator box */\n",
              "#sk-container-id-2 div.sk-estimator input.sk-toggleable__control:checked~label.sk-toggleable__label {\n",
              "  /* unfitted */\n",
              "  background-color: var(--sklearn-color-unfitted-level-2);\n",
              "}\n",
              "\n",
              "#sk-container-id-2 div.sk-estimator.fitted input.sk-toggleable__control:checked~label.sk-toggleable__label {\n",
              "  /* fitted */\n",
              "  background-color: var(--sklearn-color-fitted-level-2);\n",
              "}\n",
              "\n",
              "#sk-container-id-2 div.sk-label label.sk-toggleable__label,\n",
              "#sk-container-id-2 div.sk-label label {\n",
              "  /* The background is the default theme color */\n",
              "  color: var(--sklearn-color-text-on-default-background);\n",
              "}\n",
              "\n",
              "/* On hover, darken the color of the background */\n",
              "#sk-container-id-2 div.sk-label:hover label.sk-toggleable__label {\n",
              "  color: var(--sklearn-color-text);\n",
              "  background-color: var(--sklearn-color-unfitted-level-2);\n",
              "}\n",
              "\n",
              "/* Label box, darken color on hover, fitted */\n",
              "#sk-container-id-2 div.sk-label.fitted:hover label.sk-toggleable__label.fitted {\n",
              "  color: var(--sklearn-color-text);\n",
              "  background-color: var(--sklearn-color-fitted-level-2);\n",
              "}\n",
              "\n",
              "/* Estimator label */\n",
              "\n",
              "#sk-container-id-2 div.sk-label label {\n",
              "  font-family: monospace;\n",
              "  font-weight: bold;\n",
              "  display: inline-block;\n",
              "  line-height: 1.2em;\n",
              "}\n",
              "\n",
              "#sk-container-id-2 div.sk-label-container {\n",
              "  text-align: center;\n",
              "}\n",
              "\n",
              "/* Estimator-specific */\n",
              "#sk-container-id-2 div.sk-estimator {\n",
              "  font-family: monospace;\n",
              "  border: 1px dotted var(--sklearn-color-border-box);\n",
              "  border-radius: 0.25em;\n",
              "  box-sizing: border-box;\n",
              "  margin-bottom: 0.5em;\n",
              "  /* unfitted */\n",
              "  background-color: var(--sklearn-color-unfitted-level-0);\n",
              "}\n",
              "\n",
              "#sk-container-id-2 div.sk-estimator.fitted {\n",
              "  /* fitted */\n",
              "  background-color: var(--sklearn-color-fitted-level-0);\n",
              "}\n",
              "\n",
              "/* on hover */\n",
              "#sk-container-id-2 div.sk-estimator:hover {\n",
              "  /* unfitted */\n",
              "  background-color: var(--sklearn-color-unfitted-level-2);\n",
              "}\n",
              "\n",
              "#sk-container-id-2 div.sk-estimator.fitted:hover {\n",
              "  /* fitted */\n",
              "  background-color: var(--sklearn-color-fitted-level-2);\n",
              "}\n",
              "\n",
              "/* Specification for estimator info (e.g. \"i\" and \"?\") */\n",
              "\n",
              "/* Common style for \"i\" and \"?\" */\n",
              "\n",
              ".sk-estimator-doc-link,\n",
              "a:link.sk-estimator-doc-link,\n",
              "a:visited.sk-estimator-doc-link {\n",
              "  float: right;\n",
              "  font-size: smaller;\n",
              "  line-height: 1em;\n",
              "  font-family: monospace;\n",
              "  background-color: var(--sklearn-color-background);\n",
              "  border-radius: 1em;\n",
              "  height: 1em;\n",
              "  width: 1em;\n",
              "  text-decoration: none !important;\n",
              "  margin-left: 1ex;\n",
              "  /* unfitted */\n",
              "  border: var(--sklearn-color-unfitted-level-1) 1pt solid;\n",
              "  color: var(--sklearn-color-unfitted-level-1);\n",
              "}\n",
              "\n",
              ".sk-estimator-doc-link.fitted,\n",
              "a:link.sk-estimator-doc-link.fitted,\n",
              "a:visited.sk-estimator-doc-link.fitted {\n",
              "  /* fitted */\n",
              "  border: var(--sklearn-color-fitted-level-1) 1pt solid;\n",
              "  color: var(--sklearn-color-fitted-level-1);\n",
              "}\n",
              "\n",
              "/* On hover */\n",
              "div.sk-estimator:hover .sk-estimator-doc-link:hover,\n",
              ".sk-estimator-doc-link:hover,\n",
              "div.sk-label-container:hover .sk-estimator-doc-link:hover,\n",
              ".sk-estimator-doc-link:hover {\n",
              "  /* unfitted */\n",
              "  background-color: var(--sklearn-color-unfitted-level-3);\n",
              "  color: var(--sklearn-color-background);\n",
              "  text-decoration: none;\n",
              "}\n",
              "\n",
              "div.sk-estimator.fitted:hover .sk-estimator-doc-link.fitted:hover,\n",
              ".sk-estimator-doc-link.fitted:hover,\n",
              "div.sk-label-container:hover .sk-estimator-doc-link.fitted:hover,\n",
              ".sk-estimator-doc-link.fitted:hover {\n",
              "  /* fitted */\n",
              "  background-color: var(--sklearn-color-fitted-level-3);\n",
              "  color: var(--sklearn-color-background);\n",
              "  text-decoration: none;\n",
              "}\n",
              "\n",
              "/* Span, style for the box shown on hovering the info icon */\n",
              ".sk-estimator-doc-link span {\n",
              "  display: none;\n",
              "  z-index: 9999;\n",
              "  position: relative;\n",
              "  font-weight: normal;\n",
              "  right: .2ex;\n",
              "  padding: .5ex;\n",
              "  margin: .5ex;\n",
              "  width: min-content;\n",
              "  min-width: 20ex;\n",
              "  max-width: 50ex;\n",
              "  color: var(--sklearn-color-text);\n",
              "  box-shadow: 2pt 2pt 4pt #999;\n",
              "  /* unfitted */\n",
              "  background: var(--sklearn-color-unfitted-level-0);\n",
              "  border: .5pt solid var(--sklearn-color-unfitted-level-3);\n",
              "}\n",
              "\n",
              ".sk-estimator-doc-link.fitted span {\n",
              "  /* fitted */\n",
              "  background: var(--sklearn-color-fitted-level-0);\n",
              "  border: var(--sklearn-color-fitted-level-3);\n",
              "}\n",
              "\n",
              ".sk-estimator-doc-link:hover span {\n",
              "  display: block;\n",
              "}\n",
              "\n",
              "/* \"?\"-specific style due to the `<a>` HTML tag */\n",
              "\n",
              "#sk-container-id-2 a.estimator_doc_link {\n",
              "  float: right;\n",
              "  font-size: 1rem;\n",
              "  line-height: 1em;\n",
              "  font-family: monospace;\n",
              "  background-color: var(--sklearn-color-background);\n",
              "  border-radius: 1rem;\n",
              "  height: 1rem;\n",
              "  width: 1rem;\n",
              "  text-decoration: none;\n",
              "  /* unfitted */\n",
              "  color: var(--sklearn-color-unfitted-level-1);\n",
              "  border: var(--sklearn-color-unfitted-level-1) 1pt solid;\n",
              "}\n",
              "\n",
              "#sk-container-id-2 a.estimator_doc_link.fitted {\n",
              "  /* fitted */\n",
              "  border: var(--sklearn-color-fitted-level-1) 1pt solid;\n",
              "  color: var(--sklearn-color-fitted-level-1);\n",
              "}\n",
              "\n",
              "/* On hover */\n",
              "#sk-container-id-2 a.estimator_doc_link:hover {\n",
              "  /* unfitted */\n",
              "  background-color: var(--sklearn-color-unfitted-level-3);\n",
              "  color: var(--sklearn-color-background);\n",
              "  text-decoration: none;\n",
              "}\n",
              "\n",
              "#sk-container-id-2 a.estimator_doc_link.fitted:hover {\n",
              "  /* fitted */\n",
              "  background-color: var(--sklearn-color-fitted-level-3);\n",
              "}\n",
              "</style><div id=\"sk-container-id-2\" class=\"sk-top-container\"><div class=\"sk-text-repr-fallback\"><pre>LogisticRegression(max_iter=1000, multi_class=&#x27;ovr&#x27;)</pre><b>In a Jupyter environment, please rerun this cell to show the HTML representation or trust the notebook. <br />On GitHub, the HTML representation is unable to render, please try loading this page with nbviewer.org.</b></div><div class=\"sk-container\" hidden><div class=\"sk-item\"><div class=\"sk-estimator fitted sk-toggleable\"><input class=\"sk-toggleable__control sk-hidden--visually\" id=\"sk-estimator-id-2\" type=\"checkbox\" checked><label for=\"sk-estimator-id-2\" class=\"sk-toggleable__label fitted sk-toggleable__label-arrow fitted\">&nbsp;&nbsp;LogisticRegression<a class=\"sk-estimator-doc-link fitted\" rel=\"noreferrer\" target=\"_blank\" href=\"https://scikit-learn.org/1.4/modules/generated/sklearn.linear_model.LogisticRegression.html\">?<span>Documentation for LogisticRegression</span></a><span class=\"sk-estimator-doc-link fitted\">i<span>Fitted</span></span></label><div class=\"sk-toggleable__content fitted\"><pre>LogisticRegression(max_iter=1000, multi_class=&#x27;ovr&#x27;)</pre></div> </div></div></div></div>"
            ],
            "text/plain": [
              "LogisticRegression(max_iter=1000, multi_class='ovr')"
            ]
          },
          "execution_count": 96,
          "metadata": {},
          "output_type": "execute_result"
        }
      ],
      "source": [
        "model.fit(X_train_vectorized, y_train)"
      ]
    },
    {
      "cell_type": "code",
      "execution_count": 97,
      "metadata": {
        "colab": {
          "base_uri": "https://localhost:8080/"
        },
        "id": "CSFTppUHjIxy",
        "outputId": "0f59907e-5ca3-4291-ecfa-a6183a8e9ab7"
      },
      "outputs": [
        {
          "name": "stdout",
          "output_type": "stream",
          "text": [
            "['Finance' 'Finance' 'Travel' ... 'Entertainment' 'Finance'\n",
            " 'Style & Beauty']\n"
          ]
        }
      ],
      "source": [
        "y_pred = model.predict(X_test_vectorized)\n",
        "print(y_pred)"
      ]
    },
    {
      "cell_type": "code",
      "execution_count": 98,
      "metadata": {
        "colab": {
          "base_uri": "https://localhost:8080/"
        },
        "id": "H9ogmy4UjYNB",
        "outputId": "8c7b57e6-8c2f-4a32-866c-204a2c7df6a9"
      },
      "outputs": [
        {
          "name": "stdout",
          "output_type": "stream",
          "text": [
            "Accuracy: 0.9185839768595918\n",
            "Classification Report:\n",
            "                precision    recall  f1-score   support\n",
            "\n",
            " Entertainment       0.88      0.88      0.88      5318\n",
            "       Finance       0.89      0.92      0.90      5346\n",
            "      Politics       0.91      0.89      0.90      5358\n",
            "        Sports       0.95      0.98      0.97      5385\n",
            "Style & Beauty       0.94      0.93      0.93      5353\n",
            "        Travel       0.94      0.95      0.95      5494\n",
            "      Wellness       0.92      0.88      0.90      5429\n",
            "\n",
            "      accuracy                           0.92     37683\n",
            "     macro avg       0.92      0.92      0.92     37683\n",
            "  weighted avg       0.92      0.92      0.92     37683\n",
            "\n"
          ]
        }
      ],
      "source": [
        "# Calculate accuracy\n",
        "accuracy = accuracy_score(y_test, y_pred)\n",
        "print(\"Accuracy:\", accuracy)\n",
        "\n",
        "# Get classification report\n",
        "print(\"Classification Report:\")\n",
        "print(classification_report(y_test, y_pred))"
      ]
    },
    {
      "cell_type": "markdown",
      "metadata": {
        "id": "JnmdbYoWvWSq"
      },
      "source": []
    },
    {
      "cell_type": "code",
      "execution_count": 99,
      "metadata": {
        "colab": {
          "base_uri": "https://localhost:8080/"
        },
        "id": "t55dL4eH2rFI",
        "outputId": "e690455b-8c70-4adc-fb4f-d77d304cc694"
      },
      "outputs": [
        {
          "name": "stdout",
          "output_type": "stream",
          "text": [
            "actor last see badla currently work ayan mukherjis brahmastra bilingual project title tera yaar hoon main bachchan also team emraan hashmi mystery thriller\n"
          ]
        }
      ],
      "source": [
        "# test_text = \"Contrary to the claim of the Pushpa Kamal Dahal-led government and the ruling parties that the ongoing session of Parliament would be effective, the meeting of the House of Representatives on Thursday was adjourned without entering the agenda for the lack of quorum.\"\n",
        "# test_text = \"Urmila Matondkar recalls shooting romantic song with Shah Rukh Khan from their film 'Chamatkar'\"\n",
        "# test_text = \"The recent rally in global stocks has only a little further to go given last year's unexpectedly sharp run-up, according to a Reuters poll of equity strategists who were evenly split on whether there will be a correction in the next three months.\"\n",
        "# test_text = \"Keeping up a solid morning skin care routine is a key to achieving healthy skin. And of course, your skin’s needs change as you age, requiring different products and routines. How you treat your skin in the morning affects you throughout the day, protecting against pollution and harmful UV rays. (Your nighttime routine, on the other hand, includes more actives to heal the skin overnight.)\"\n",
        "# test_text = \"A mountainous roadway full of ever-changing seasonal scenery and sumptuous curves landed its usual No. 1 spot as the most visited site in the US National Park system and accounts for 5.15% of all visits in the system.\"\n",
        "# test_text = \"“Understand that fitness is your goal. Begin with something that you enjoy building momentum. It can be an hour of playing badminton or a walk\"\n",
        "# test_text = \"Nepal suffered back-to-back defeat against Namibia in Nepal Tri-series of the ICC Cricket World Cup League 2 (2024-2027) after the Rhinos fell to a two-wicket loss at the TU Cricket Ground in Kirtipur on Wednesday.\"\n",
        "# test_text = \"Any infrastructures built in the national park areas and forests should be wildlife-friendly. However, this notion was completely ignored while building the embankment on the Rapti river near the eastern sector office of the Chitwan National Park. The area is frequented by the endangered one-horned rhinoceros and gharials, among other animals.\"\n",
        "# test_text = \"Registrar at the Patan High Court Man Bahadur Karki has confirmed that Lamichhane registered an appeal against the Kathmandu District Court’s verdict on Thursday, and the court allowed him to appeal remaining out of jail.\"\n",
        "test_text=\" The actor, who was last seen in 'Badla', is currently working on Ayan Mukherji's 'Brahmastra' and a bilingual project, titled 'Tera Yaar Hoon Main'. Bachchan is also teaming up with Emraan Hashmi for a mystery thriller.\"\n",
        "cleaned_text = clean_text(test_text)\n",
        "print(cleaned_text)"
      ]
    },
    {
      "cell_type": "code",
      "execution_count": 100,
      "metadata": {
        "colab": {
          "base_uri": "https://localhost:8080/"
        },
        "id": "pDvXsfSm_4J6",
        "outputId": "8b0fc102-45c4-4558-8432-2e7a8bbfd6f5"
      },
      "outputs": [
        {
          "name": "stdout",
          "output_type": "stream",
          "text": [
            "Predicted category: Entertainment\n"
          ]
        }
      ],
      "source": [
        "input_vect = vectorizer.transform([cleaned_text])\n",
        "# Make prediction using the trained model\n",
        "prediction = model.predict(input_vect)\n",
        "\n",
        "# Print the prediction\n",
        "print(\"Predicted category:\", prediction[0])"
      ]
    },
    {
      "cell_type": "code",
      "execution_count": 101,
      "metadata": {
        "id": "X3DCm6wGAw1H"
      },
      "outputs": [],
      "source": [
        "import pickle\n",
        "with open('data/model.pkl', 'wb') as f:\n",
        "    pickle.dump((model, vectorizer), f)"
      ]
    },
    {
      "cell_type": "code",
      "execution_count": null,
      "metadata": {
        "id": "1vI2T5a3vFIt"
      },
      "outputs": [],
      "source": []
    }
  ],
  "metadata": {
    "colab": {
      "provenance": []
    },
    "kernelspec": {
      "display_name": "Python 3",
      "name": "python3"
    },
    "language_info": {
      "codemirror_mode": {
        "name": "ipython",
        "version": 3
      },
      "file_extension": ".py",
      "mimetype": "text/x-python",
      "name": "python",
      "nbconvert_exporter": "python",
      "pygments_lexer": "ipython3",
      "version": "3.12.0"
    }
  },
  "nbformat": 4,
  "nbformat_minor": 0
}
